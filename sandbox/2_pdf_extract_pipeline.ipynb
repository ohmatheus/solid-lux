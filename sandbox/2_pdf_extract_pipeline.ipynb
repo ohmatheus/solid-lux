{
 "cells": [
  {
   "cell_type": "code",
   "execution_count": 1,
   "metadata": {},
   "outputs": [
    {
     "name": "stderr",
     "output_type": "stream",
     "text": [
      "C:\\Users\\Ohmatheus\\AppData\\Local\\Temp\\ipykernel_9116\\4073229117.py:7: LangChainDeprecationWarning: As of langchain-core 0.3.0, LangChain uses pydantic v2 internally. The langchain_core.pydantic_v1 module was a compatibility shim for pydantic v1, and should no longer be used. Please update the code to import from Pydantic directly.\n",
      "\n",
      "For example, replace imports like: `from langchain_core.pydantic_v1 import BaseModel`\n",
      "with: `from pydantic import BaseModel`\n",
      "or the v1 compatibility namespace if you are working in a code base that has not been fully upgraded to pydantic 2 yet. \tfrom pydantic.v1 import BaseModel\n",
      "\n",
      "  from modules import extractor\n"
     ]
    }
   ],
   "source": [
    "import os\n",
    "import pandas as pd\n",
    "\n",
    "from langchain_anthropic import ChatAnthropic\n",
    "\n",
    "from logger import logger\n",
    "from modules import extractor"
   ]
  },
  {
   "cell_type": "markdown",
   "metadata": {},
   "source": [
    "to access modules in parent directory"
   ]
  },
  {
   "cell_type": "code",
   "execution_count": 2,
   "metadata": {},
   "outputs": [],
   "source": [
    "import sys\n",
    "\n",
    "# Add the parent directory (my_app/) to sys.path\n",
    "sys.path.append(os.path.abspath(os.path.join(os.getcwd(), \"..\")))"
   ]
  },
  {
   "cell_type": "markdown",
   "metadata": {},
   "source": [
    "________________________________________________________"
   ]
  },
  {
   "cell_type": "code",
   "execution_count": 3,
   "metadata": {},
   "outputs": [
    {
     "name": "stderr",
     "output_type": "stream",
     "text": [
      "2025-02-25 09:04:34,678 - LOGZ - INFO - -------------- New Notebook Session --------------\n"
     ]
    }
   ],
   "source": [
    "logger.info(\"-------------- New Notebook Session --------------\")"
   ]
  },
  {
   "cell_type": "code",
   "execution_count": 4,
   "metadata": {},
   "outputs": [],
   "source": [
    "with open(\"../api_key.txt\") as f:\n",
    "    api_key=f.read()\n",
    "\n",
    "llm = ChatAnthropic(model=\"claude-3-5-sonnet-20241022\",\n",
    "                    temperature=0,\n",
    "                    max_tokens=512,\n",
    "                    timeout=None,\n",
    "                    max_retries=2,\n",
    "                    api_key=api_key)"
   ]
  },
  {
   "cell_type": "code",
   "execution_count": 5,
   "metadata": {},
   "outputs": [],
   "source": [
    "def process_folder(folder_path, **kwargs):\n",
    "    if not os.path.exists(folder_path):\n",
    "        logger.error(\"Error: Folder {folder_path} does not exist.\")\n",
    "        return\n",
    "\n",
    "    pdf_files = [f for f in os.listdir(folder_path) if f.lower().endswith(\".pdf\")]\n",
    "\n",
    "    if not pdf_files:\n",
    "        logger.info(\"No PDF files found.\")\n",
    "        return\n",
    "\n",
    "    logger.info(f\"Found {len(pdf_files)} PDF(s). Processing...\\n\")\n",
    "\n",
    "    results = []\n",
    "\n",
    "    for pdf in pdf_files:\n",
    "        pdf_path = os.path.join(folder_path, pdf)\n",
    "        df = extractor.process_pdf(pdf_path, **kwargs)\n",
    "        results.append(df)\n",
    "\n",
    "    logger.info(\"Finished processing all PDFs.\")\n",
    "    return results"
   ]
  },
  {
   "cell_type": "code",
   "execution_count": 6,
   "metadata": {},
   "outputs": [
    {
     "name": "stderr",
     "output_type": "stream",
     "text": [
      "2025-02-25 09:04:34,712 - LOGZ - INFO - Found 3 PDF(s). Processing...\n",
      "\n",
      "2025-02-25 09:04:34,713 - LOGZ - INFO - Starting load and extraction of ../Data/AllPDF\\TPC Rule Manual.pdf\n",
      "2025-02-25 09:04:35,411 - LOGZ - INFO - Starting extraction on 1 chunks.\n",
      "2025-02-25 09:04:40,255 - LOGZ - INFO - Starting load and extraction of ../Data/AllPDF\\TX PPA APCIC Rules 101518RB.pdf\n",
      "2025-02-25 09:04:40,981 - LOGZ - INFO - Starting extraction on 3 chunks.\n",
      "2025-02-25 09:04:45,918 - LOGZ - INFO - Starting load and extraction of ../Data/AllPDF\\TX RV 201401 Rules.pdf\n",
      "2025-02-25 09:04:46,202 - LOGZ - INFO - Starting extraction on 2 chunks.\n",
      "2025-02-25 09:04:52,214 - LOGZ - INFO - Finished processing all PDFs.\n"
     ]
    }
   ],
   "source": [
    "folder = '../Data/AllPDF'\n",
    "\n",
    "args = {\n",
    "    \"llm\": llm,\n",
    "}\n",
    "\n",
    "results = process_folder(folder, **args)"
   ]
  },
  {
   "cell_type": "code",
   "execution_count": 7,
   "metadata": {},
   "outputs": [
    {
     "name": "stdout",
     "output_type": "stream",
     "text": [
      "End of list reached\n"
     ]
    },
    {
     "data": {
      "text/html": [
       "<div>\n",
       "<style scoped>\n",
       "    .dataframe tbody tr th:only-of-type {\n",
       "        vertical-align: middle;\n",
       "    }\n",
       "\n",
       "    .dataframe tbody tr th {\n",
       "        vertical-align: top;\n",
       "    }\n",
       "\n",
       "    .dataframe thead th {\n",
       "        text-align: right;\n",
       "    }\n",
       "</style>\n",
       "<table border=\"1\" class=\"dataframe\">\n",
       "  <thead>\n",
       "    <tr style=\"text-align: right;\">\n",
       "      <th></th>\n",
       "      <th>company_name</th>\n",
       "      <th>min_premium</th>\n",
       "      <th>min_premium_comments</th>\n",
       "      <th>policy_period</th>\n",
       "      <th>policy_period_comments</th>\n",
       "      <th>territory_factor_BI</th>\n",
       "    </tr>\n",
       "  </thead>\n",
       "  <tbody>\n",
       "    <tr>\n",
       "      <th>0</th>\n",
       "      <td>Tesla Property &amp; Casualty, Inc.</td>\n",
       "      <td>100</td>\n",
       "      <td>The minimum premium is for a six-month policy,...</td>\n",
       "      <td>6</td>\n",
       "      <td>Policies may be written for policy periods for...</td>\n",
       "      <td>1</td>\n",
       "    </tr>\n",
       "    <tr>\n",
       "      <th>1</th>\n",
       "      <td>Allied Property and Casualty Insurance Company</td>\n",
       "      <td>null</td>\n",
       "      <td>null</td>\n",
       "      <td>6</td>\n",
       "      <td>A Policy Period is six or twelve months, as of...</td>\n",
       "      <td>null</td>\n",
       "    </tr>\n",
       "    <tr>\n",
       "      <th>2</th>\n",
       "      <td>Allied Property and Casualty Insurance Company</td>\n",
       "      <td>null</td>\n",
       "      <td>No minimum premium information found in the text</td>\n",
       "      <td>null</td>\n",
       "      <td>No explicit policy period mentioned in the text</td>\n",
       "      <td>The territory factors are listed by county and...</td>\n",
       "    </tr>\n",
       "    <tr>\n",
       "      <th>3</th>\n",
       "      <td>Allied Property and Casualty Insurance Company</td>\n",
       "      <td></td>\n",
       "      <td>None</td>\n",
       "      <td>6</td>\n",
       "      <td>Premiums are developed based on a six-month po...</td>\n",
       "      <td></td>\n",
       "    </tr>\n",
       "    <tr>\n",
       "      <th>4</th>\n",
       "      <td>Progressive County Mutual Insurance Company</td>\n",
       "      <td>null</td>\n",
       "      <td>While Rule G05 mentions there is a Minimum Wri...</td>\n",
       "      <td>12</td>\n",
       "      <td>According to Rule G03: \"All policies are writt...</td>\n",
       "      <td>null</td>\n",
       "    </tr>\n",
       "    <tr>\n",
       "      <th>5</th>\n",
       "      <td>Progressive County Mutual Insurance Company</td>\n",
       "      <td></td>\n",
       "      <td>None</td>\n",
       "      <td>35</td>\n",
       "      <td>Based on the chargeable period mentioned in Ru...</td>\n",
       "      <td></td>\n",
       "    </tr>\n",
       "  </tbody>\n",
       "</table>\n",
       "</div>"
      ],
      "text/plain": [
       "                                     company_name min_premium  \\\n",
       "0                 Tesla Property & Casualty, Inc.         100   \n",
       "1  Allied Property and Casualty Insurance Company        null   \n",
       "2  Allied Property and Casualty Insurance Company        null   \n",
       "3  Allied Property and Casualty Insurance Company               \n",
       "4     Progressive County Mutual Insurance Company        null   \n",
       "5     Progressive County Mutual Insurance Company               \n",
       "\n",
       "                                min_premium_comments policy_period  \\\n",
       "0  The minimum premium is for a six-month policy,...             6   \n",
       "1                                               null             6   \n",
       "2   No minimum premium information found in the text          null   \n",
       "3                                               None             6   \n",
       "4  While Rule G05 mentions there is a Minimum Wri...            12   \n",
       "5                                               None            35   \n",
       "\n",
       "                              policy_period_comments  \\\n",
       "0  Policies may be written for policy periods for...   \n",
       "1  A Policy Period is six or twelve months, as of...   \n",
       "2    No explicit policy period mentioned in the text   \n",
       "3  Premiums are developed based on a six-month po...   \n",
       "4  According to Rule G03: \"All policies are writt...   \n",
       "5  Based on the chargeable period mentioned in Ru...   \n",
       "\n",
       "                                 territory_factor_BI  \n",
       "0                                                  1  \n",
       "1                                               null  \n",
       "2  The territory factors are listed by county and...  \n",
       "3                                                     \n",
       "4                                               null  \n",
       "5                                                     "
      ]
     },
     "execution_count": 7,
     "metadata": {},
     "output_type": "execute_result"
    }
   ],
   "source": [
    "iterator = iter(results)\n",
    "final_df = next(iterator)\n",
    "\n",
    "try:\n",
    "    while True:\n",
    "        df = next(iterator)\n",
    "        final_df = pd.concat([final_df, df], ignore_index=True)\n",
    "except StopIteration:\n",
    "    print(\"End of list reached\")\n",
    "\n",
    "final_df"
   ]
  },
  {
   "cell_type": "code",
   "execution_count": 8,
   "metadata": {},
   "outputs": [],
   "source": [
    "final_df.to_csv(\"extracted.csv\", index=False)"
   ]
  },
  {
   "cell_type": "markdown",
   "metadata": {},
   "source": [
    "how the hell am i going to handle tables ?"
   ]
  }
 ],
 "metadata": {
  "kernelspec": {
   "display_name": ".venv",
   "language": "python",
   "name": "python3"
  },
  "language_info": {
   "codemirror_mode": {
    "name": "ipython",
    "version": 3
   },
   "file_extension": ".py",
   "mimetype": "text/x-python",
   "name": "python",
   "nbconvert_exporter": "python",
   "pygments_lexer": "ipython3",
   "version": "3.11.5"
  }
 },
 "nbformat": 4,
 "nbformat_minor": 2
}
