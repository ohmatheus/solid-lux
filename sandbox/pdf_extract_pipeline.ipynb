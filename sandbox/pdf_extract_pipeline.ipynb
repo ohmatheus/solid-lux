{
 "cells": [
  {
   "cell_type": "code",
   "execution_count": 1,
   "metadata": {},
   "outputs": [
    {
     "name": "stderr",
     "output_type": "stream",
     "text": [
      "f:\\Projects\\Repos\\solid_lux_repo\\.venv\\Lib\\site-packages\\IPython\\core\\interactiveshell.py:3579: LangChainDeprecationWarning: As of langchain-core 0.3.0, LangChain uses pydantic v2 internally. The langchain_core.pydantic_v1 module was a compatibility shim for pydantic v1, and should no longer be used. Please update the code to import from Pydantic directly.\n",
      "\n",
      "For example, replace imports like: `from langchain_core.pydantic_v1 import BaseModel`\n",
      "with: `from pydantic import BaseModel`\n",
      "or the v1 compatibility namespace if you are working in a code base that has not been fully upgraded to pydantic 2 yet. \tfrom pydantic.v1 import BaseModel\n",
      "\n",
      "  exec(code_obj, self.user_global_ns, self.user_ns)\n",
      "f:\\Projects\\Repos\\solid_lux_repo\\.venv\\Lib\\site-packages\\tqdm\\auto.py:21: TqdmWarning: IProgress not found. Please update jupyter and ipywidgets. See https://ipywidgets.readthedocs.io/en/stable/user_install.html\n",
      "  from .autonotebook import tqdm as notebook_tqdm\n"
     ]
    }
   ],
   "source": [
    "import logging\n",
    "\n",
    "from langchain_anthropic import ChatAnthropic\n",
    "\n",
    "from langchain_core.pydantic_v1 import BaseModel, Field\n",
    "from langchain_core.documents import Document\n",
    "\n",
    "from langchain_community.document_loaders import PyPDFLoader\n",
    "\n",
    "from langchain_community.embeddings import HuggingFaceEmbeddings\n",
    "\n",
    "from langchain_core.prompts import ChatPromptTemplate, MessagesPlaceholder\n",
    "from langchain_text_splitters import TokenTextSplitter\n",
    "\n",
    "\n",
    "from sentence_transformers import SentenceTransformer\n",
    "\n",
    "from typing import Optional\n",
    "\n",
    "from tqdm import tqdm"
   ]
  },
  {
   "cell_type": "code",
   "execution_count": 2,
   "metadata": {},
   "outputs": [
    {
     "name": "stderr",
     "output_type": "stream",
     "text": [
      "2025-02-24 19:48:40,878 - LOGZ - INFO - -------------- New session --------------\n"
     ]
    }
   ],
   "source": [
    "# Create a logger\n",
    "logger = logging.getLogger(\"LOGZ\")\n",
    "logger.setLevel(logging.DEBUG)  # Set level to capture all messages\n",
    "\n",
    "# Create handlers\n",
    "console_handler = logging.StreamHandler()  # For console output\n",
    "file_handler = logging.FileHandler(\"app.log\")  # Save logs to file\n",
    "\n",
    "# Set levels for handlers\n",
    "console_handler.setLevel(logging.INFO)  # Console shows INFO and above\n",
    "file_handler.setLevel(logging.DEBUG)  # File stores everything\n",
    "\n",
    "# Define a log format\n",
    "formatter = logging.Formatter(\"%(asctime)s - %(name)s - %(levelname)s - %(message)s\")\n",
    "console_handler.setFormatter(formatter)\n",
    "file_handler.setFormatter(formatter)\n",
    "\n",
    "# Add handlers to logger\n",
    "logger.addHandler(console_handler)\n",
    "logger.addHandler(file_handler)\n",
    "\n",
    "\n",
    "logger.info(\"-------------- New session --------------\")"
   ]
  },
  {
   "cell_type": "code",
   "execution_count": 3,
   "metadata": {},
   "outputs": [],
   "source": [
    "with open(\"../api_key.txt\") as f:\n",
    "    api_key=f.read()\n",
    "\n",
    "llm = ChatAnthropic(model=\"claude-3-sonnet-20240229\",\n",
    "                    temperature=0,\n",
    "                    max_tokens=512,\n",
    "                    timeout=None,\n",
    "                    max_retries=2,\n",
    "                    api_key=api_key)"
   ]
  },
  {
   "cell_type": "code",
   "execution_count": 65,
   "metadata": {},
   "outputs": [
    {
     "name": "stderr",
     "output_type": "stream",
     "text": [
      "2025-02-24 20:05:26,009 - LOGZ - INFO - Starting load and extraction of ../Data/Personal Auto/Tesla Property & Casualty, Inc/TPC Rule Manual.pdf\n"
     ]
    },
    {
     "data": {
      "text/plain": [
       "30"
      ]
     },
     "execution_count": 65,
     "metadata": {},
     "output_type": "execute_result"
    }
   ],
   "source": [
    "file_path = \"../Data/Personal Auto/Tesla Property & Casualty, Inc/TPC Rule Manual.pdf\"\n",
    "#file_path = \"../Data/Personal Auto/Tesla Property & Casualty, Inc/TX RV 201401 Rules.pdf\"\n",
    "\n",
    "#file_path = \"../Data/Personal Auto/test/TX PPA APCIC Rules 101518RB.pdf\"\n",
    "\n",
    "#file_path = \"../Data/Personal Auto/Tesla Property & Casualty, Inc/TPC Rate Manual.pdf\"\n",
    "\n",
    "#text_loader_kwargs = {\"autodetect_encoding\": True}\n",
    "#loader = DirectoryLoader(\"corpus/\", glob='**/**/*.txt', loader_cls=TextLoader, loader_kwargs=text_loader_kwargs)\n",
    "\n",
    "logger.info(f\"Starting load and extraction of {file_path}\")\n",
    "\n",
    "loader = PyPDFLoader(file_path)\n",
    "\n",
    "doc = loader.load()\n",
    "nb_page = len(doc)\n",
    "nb_page"
   ]
  },
  {
   "cell_type": "markdown",
   "metadata": {},
   "source": [
    "Claude pro has a context window of 200k+ tokens (about 500 pages of text or 100 images). So we need to take that into account. For even safer usage, we will divide this number by 2."
   ]
  },
  {
   "cell_type": "code",
   "execution_count": 66,
   "metadata": {},
   "outputs": [],
   "source": [
    "pages = loader.load_and_split()"
   ]
  },
  {
   "cell_type": "code",
   "execution_count": 67,
   "metadata": {},
   "outputs": [
    {
     "data": {
      "text/plain": [
       "18380"
      ]
     },
     "execution_count": 67,
     "metadata": {},
     "output_type": "execute_result"
    }
   ],
   "source": [
    "text = \" \".join(list(map(lambda page: page.page_content, pages)))\n",
    "len(text)"
   ]
  },
  {
   "cell_type": "code",
   "execution_count": 68,
   "metadata": {},
   "outputs": [],
   "source": [
    "text_splitter = TokenTextSplitter(\n",
    "    chunk_size=10000,\n",
    "    chunk_overlap=20,\n",
    ")"
   ]
  },
  {
   "cell_type": "code",
   "execution_count": 69,
   "metadata": {},
   "outputs": [
    {
     "data": {
      "text/plain": [
       "1"
      ]
     },
     "execution_count": 69,
     "metadata": {},
     "output_type": "execute_result"
    }
   ],
   "source": [
    "text_processed = []\n",
    "\n",
    "#for each documents\n",
    "#for page in doc:\n",
    "#    text_processed += text_splitter.split_text(page.page_content)\n",
    "\n",
    "text_processed += text_splitter.split_text(text)\n",
    "\n",
    "\n",
    "text_processed = [text for text in text_processed]\n",
    "len(text_processed)"
   ]
  },
  {
   "cell_type": "code",
   "execution_count": 70,
   "metadata": {},
   "outputs": [],
   "source": [
    "#text_processed = []\n",
    "#\n",
    "##for each documents\n",
    "##for page in doc:\n",
    "##    text_processed += text_splitter.split_text(page.page_content)\n",
    "#\n",
    "#text_processed += text_splitter.split_documents(doc)\n",
    "#\n",
    "#\n",
    "#text_processed = [doc.page_content for doc in text_processed]\n",
    "#text_processed"
   ]
  },
  {
   "cell_type": "code",
   "execution_count": 71,
   "metadata": {},
   "outputs": [],
   "source": [
    "# Define a custom prompt to provide instructions and any additional context.\n",
    "# 1) You can add examples into the prompt template to improve extraction quality\n",
    "# 2) Introduce additional parameters to take context into account (e.g., include metadata\n",
    "#    about the document from which the text was extracted.)\n",
    "prompt_template = ChatPromptTemplate.from_messages(\n",
    "    [\n",
    "        (\n",
    "            \"system\",\n",
    "            \"You are an expert extraction algorithm. \"\n",
    "            \"Only extract relevant information from the text. \"\n",
    "            \"If you do not know the value of an attribute asked to extract, \"\n",
    "            \"return null for the attribute's value.\",\n",
    "        ),\n",
    "        # Please see the how-to about improving performance with\n",
    "        # reference examples.\n",
    "        # MessagesPlaceholder('examples'),\n",
    "        (\"human\", \"{text}\"),\n",
    "    ]\n",
    ")\n",
    "\n",
    "#claude pro context window : 200k+ tokens (about 500 pages of text or 100 images)"
   ]
  },
  {
   "cell_type": "code",
   "execution_count": 72,
   "metadata": {},
   "outputs": [],
   "source": [
    "all_args = {\n",
    "    \"allow_inf_nan\" : True,\n",
    "    \"default\" : 0\n",
    "    }\n",
    "\n",
    "# default_factory -> callable when default is needed\n",
    "\n",
    "# use nested class for organisation\n",
    "\n",
    "#---------------------------------------------------------------------------\n",
    "class InsuranceExtraction_Rule(BaseModel):\n",
    "    '''Different informations extracted from a company insurance's rule & rate files.'''\n",
    "    # This doc-string is sent to the LLM as the description of the schema Person,\n",
    "    # and it can help to improve extraction results.\n",
    "\n",
    "    company_name: str = Field(\n",
    "        description=\"The company that wrote this file.\"\n",
    "    )\n",
    "    min_premium: Optional[str] = Field(\n",
    "        description=\"Minimum premium (The lowest amount the insurer will charge for coverage) in dollars, if there is multiple possible values, take the lowest.\", \n",
    "        default=\"\"\n",
    "    )\n",
    "    min_premium_comments: Optional[str] = Field(\n",
    "        description=\"Minimum premium commentaries or additionnal informations\"\n",
    "    )\n",
    "    policy_period: Optional[str] = Field(\n",
    "        description=\"Policy period in month, if there is multiple possible values, take the lowest.\", \n",
    "        default=\"\"\n",
    "    )\n",
    "    policy_period_comments: Optional[str] = Field(\n",
    "        description=\"Policy period commentaries or additionnal informations.\"\n",
    "    )\n",
    "    territory_factor_BI: Optional[str] = Field(\n",
    "        description=\"The company's insurance territory factor for BI (Bodily Injury) insurance.\", \n",
    "        default=\"\"\n",
    "    )\n",
    "\n",
    "#---------------------------------------------------------------------------\n",
    "\n"
   ]
  },
  {
   "cell_type": "code",
   "execution_count": 73,
   "metadata": {},
   "outputs": [],
   "source": [
    "structured_llm_rule = llm.with_structured_output(schema=InsuranceExtraction_Rule, include_raw=False)\n"
   ]
  },
  {
   "cell_type": "code",
   "execution_count": 74,
   "metadata": {},
   "outputs": [],
   "source": [
    "extractor = prompt_template | structured_llm_rule"
   ]
  },
  {
   "cell_type": "code",
   "execution_count": 75,
   "metadata": {},
   "outputs": [
    {
     "name": "stderr",
     "output_type": "stream",
     "text": [
      "2025-02-24 20:05:26,825 - LOGZ - INFO - Starting extraction on 1 chunks.\n"
     ]
    }
   ],
   "source": [
    "# we could possibly chunk 'text' here to stay in the context window\n",
    "total = len(text_processed)\n",
    "\n",
    "logger.info(f\"Starting extraction on {total} chunks.\")\n",
    "\n",
    "#for i, text in enumerate(text_processed):\n",
    "try:\n",
    "    extractions = extractor.batch(\n",
    "        [{\"text\": text} for text in text_processed],\n",
    "        {\"max_concurrency\": 5}\n",
    "    )\n",
    "except Exception as e:\n",
    "    logger.error(f\"An error occurred: {e}\", exc_info=True)\n",
    "#else:\n",
    "#    logger.info(f\"Extraction succesfull {i+1}/{total}\")"
   ]
  },
  {
   "cell_type": "code",
   "execution_count": 76,
   "metadata": {},
   "outputs": [
    {
     "data": {
      "text/plain": [
       "[InsuranceExtraction_Rule(company_name='Tesla Property &amp; Casualty, Inc.', min_premium='100', min_premium_comments='The minimum premium for a six-month policy is $100, which cannot be reduced except in the event of a cancellation.', policy_period='6', policy_period_comments='Personal Auto Policies may be written for policy periods for 6 months or less.', territory_factor_BI='null')]"
      ]
     },
     "execution_count": 76,
     "metadata": {},
     "output_type": "execute_result"
    }
   ],
   "source": [
    "extractions"
   ]
  },
  {
   "cell_type": "code",
   "execution_count": 82,
   "metadata": {},
   "outputs": [
    {
     "data": {
      "text/plain": [
       "[{'company_name': 'Tesla Property &amp; Casualty, Inc.',\n",
       "  'min_premium': '100',\n",
       "  'min_premium_comments': 'The minimum premium for a six-month policy is $100, which cannot be reduced except in the event of a cancellation.',\n",
       "  'policy_period': '6',\n",
       "  'policy_period_comments': 'Personal Auto Policies may be written for policy periods for 6 months or less.',\n",
       "  'territory_factor_BI': 'null'}]"
      ]
     },
     "execution_count": 82,
     "metadata": {},
     "output_type": "execute_result"
    }
   ],
   "source": [
    "[extraction.__dict__ for extraction in extractions]"
   ]
  }
 ],
 "metadata": {
  "kernelspec": {
   "display_name": ".venv",
   "language": "python",
   "name": "python3"
  },
  "language_info": {
   "codemirror_mode": {
    "name": "ipython",
    "version": 3
   },
   "file_extension": ".py",
   "mimetype": "text/x-python",
   "name": "python",
   "nbconvert_exporter": "python",
   "pygments_lexer": "ipython3",
   "version": "3.11.5"
  }
 },
 "nbformat": 4,
 "nbformat_minor": 2
}
