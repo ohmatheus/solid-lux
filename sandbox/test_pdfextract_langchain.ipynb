{
 "cells": [
  {
   "cell_type": "code",
   "execution_count": 2,
   "metadata": {},
   "outputs": [],
   "source": [
    "from langchain_anthropic import ChatAnthropic\n",
    "\n",
    "from langchain_core.pydantic_v1 import BaseModel, Field\n",
    "from langchain_community.document_loaders import PyPDFLoader\n",
    "#from typing import Listpy"
   ]
  },
  {
   "cell_type": "code",
   "execution_count": 66,
   "metadata": {},
   "outputs": [],
   "source": [
    "with open(\"../api_key.txt\") as f:\n",
    "    api_key=f.read()\n"
   ]
  },
  {
   "cell_type": "code",
   "execution_count": 24,
   "metadata": {},
   "outputs": [],
   "source": [
    "llm = ChatAnthropic(model=\"claude-3-sonnet-20240229\",\n",
    "                    temperature=0,\n",
    "                    max_tokens=512,\n",
    "                    timeout=None,\n",
    "                    max_retries=2,\n",
    "                    api_key=api_key)"
   ]
  },
  {
   "cell_type": "code",
   "execution_count": 38,
   "metadata": {},
   "outputs": [],
   "source": [
    "file_path = \"../Data/Personal Auto/Tesla Property & Casualty, Inc/TPC Rule Manual.pdf\"\n",
    "file_path_test = \"../Data/Personal Auto/test/TX PPA APCIC Rules 101518RB.pdf\"\n",
    "\n",
    "loader = PyPDFLoader(file_path_test)\n",
    "pages = loader.load_and_split()"
   ]
  },
  {
   "cell_type": "markdown",
   "metadata": {},
   "source": [
    "this might not be a good idea due to pdf length"
   ]
  },
  {
   "cell_type": "code",
   "execution_count": 39,
   "metadata": {},
   "outputs": [
    {
     "data": {
      "text/plain": [
       "81014"
      ]
     },
     "execution_count": 39,
     "metadata": {},
     "output_type": "execute_result"
    }
   ],
   "source": [
    "text = \" \".join(list(map(lambda page: page.page_content, pages)))\n",
    "len(text)"
   ]
  },
  {
   "cell_type": "markdown",
   "metadata": {},
   "source": [
    "TODO : we should split text and loop to respect model's context window"
   ]
  },
  {
   "cell_type": "code",
   "execution_count": 59,
   "metadata": {},
   "outputs": [],
   "source": [
    "all_args = {\n",
    "    \"allow_inf_nan\" : True,\n",
    "    \"default\" : 0\n",
    "    }\n",
    "\n",
    "# default_factory -> callable when default is needed\n",
    "\n",
    "class InsuranceExtraction(BaseModel):\n",
    "    '''Different informations extracted from a compagny insurance's rule file.'''\n",
    "    compagny_name: str = Field(description=\"The compagny that wrote this file\")\n",
    "    min_premium: str = Field(description=\"minimum premium in dollars, only one number\", default=-1.0)\n",
    "    min_premium_comments: str = Field(description=\"minimum premium commentaries or additionnal informations\")\n",
    "    policy_period: str = Field(description=\"policy period in month, only one number\", default=-1.0)\n",
    "    policy_period_comments: str = Field(description=\"policy period commentaries or additionnal informations\")\n",
    "    "
   ]
  },
  {
   "cell_type": "code",
   "execution_count": 60,
   "metadata": {},
   "outputs": [],
   "source": [
    "structured_llm = llm.with_structured_output(InsuranceExtraction)"
   ]
  },
  {
   "cell_type": "code",
   "execution_count": 61,
   "metadata": {},
   "outputs": [
    {
     "data": {
      "text/plain": [
       "InsuranceExtraction(compagny_name='Allied Property and Casualty Insurance Company', min_premium='-1.0', min_premium_comments='The minimum premium is not specified in the provided rule file.', policy_period='6 or 12', policy_period_comments='Premiums are developed based on a six-month policy period. For twelve month policies, the premium is modified per the rating sequence.')"
      ]
     },
     "execution_count": 61,
     "metadata": {},
     "output_type": "execute_result"
    }
   ],
   "source": [
    "result = structured_llm.invoke(text)\n",
    "result"
   ]
  },
  {
   "cell_type": "markdown",
   "metadata": {},
   "source": [
    "test on document without the information -> error handling"
   ]
  }
 ],
 "metadata": {
  "kernelspec": {
   "display_name": ".venv",
   "language": "python",
   "name": "python3"
  },
  "language_info": {
   "codemirror_mode": {
    "name": "ipython",
    "version": 3
   },
   "file_extension": ".py",
   "mimetype": "text/x-python",
   "name": "python",
   "nbconvert_exporter": "python",
   "pygments_lexer": "ipython3",
   "version": "3.11.5"
  }
 },
 "nbformat": 4,
 "nbformat_minor": 2
}
