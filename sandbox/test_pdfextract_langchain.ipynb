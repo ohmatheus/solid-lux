{
 "cells": [
  {
   "cell_type": "code",
   "execution_count": 1,
   "metadata": {},
   "outputs": [
    {
     "name": "stderr",
     "output_type": "stream",
     "text": [
      "f:\\Projects\\Repos\\solid_lux_repo\\.venv\\Lib\\site-packages\\IPython\\core\\interactiveshell.py:3579: LangChainDeprecationWarning: As of langchain-core 0.3.0, LangChain uses pydantic v2 internally. The langchain_core.pydantic_v1 module was a compatibility shim for pydantic v1, and should no longer be used. Please update the code to import from Pydantic directly.\n",
      "\n",
      "For example, replace imports like: `from langchain_core.pydantic_v1 import BaseModel`\n",
      "with: `from pydantic import BaseModel`\n",
      "or the v1 compatibility namespace if you are working in a code base that has not been fully upgraded to pydantic 2 yet. \tfrom pydantic.v1 import BaseModel\n",
      "\n",
      "  exec(code_obj, self.user_global_ns, self.user_ns)\n",
      "f:\\Projects\\Repos\\solid_lux_repo\\.venv\\Lib\\site-packages\\tqdm\\auto.py:21: TqdmWarning: IProgress not found. Please update jupyter and ipywidgets. See https://ipywidgets.readthedocs.io/en/stable/user_install.html\n",
      "  from .autonotebook import tqdm as notebook_tqdm\n"
     ]
    }
   ],
   "source": [
    "from langchain_anthropic import ChatAnthropic\n",
    "\n",
    "from langchain_core.pydantic_v1 import BaseModel, Field\n",
    "from langchain_core.documents import Document\n",
    "\n",
    "from langchain_community.document_loaders import PyPDFLoader\n",
    "from langchain_community.embeddings import HuggingFaceEmbeddings\n",
    "\n",
    "from langchain_core.prompts import ChatPromptTemplate, MessagesPlaceholder\n",
    "from sentence_transformers import SentenceTransformer\n",
    "\n",
    "from typing import Optional"
   ]
  },
  {
   "cell_type": "code",
   "execution_count": 2,
   "metadata": {},
   "outputs": [],
   "source": [
    "#EMBEDDING_MODEL_NAME = \"thenlper/gte-large\"\n",
    "EMBEDDING_MODEL_NAME = \"thenlper/gte-small\"\n"
   ]
  },
  {
   "cell_type": "code",
   "execution_count": 3,
   "metadata": {},
   "outputs": [
    {
     "name": "stderr",
     "output_type": "stream",
     "text": [
      "C:\\Users\\Ohmatheus\\AppData\\Local\\Temp\\ipykernel_18120\\3390821894.py:1: LangChainDeprecationWarning: The class `HuggingFaceEmbeddings` was deprecated in LangChain 0.2.2 and will be removed in 1.0. An updated version of the class exists in the :class:`~langchain-huggingface package and should be used instead. To use it run `pip install -U :class:`~langchain-huggingface` and import as `from :class:`~langchain_huggingface import HuggingFaceEmbeddings``.\n",
      "  embedding_model = HuggingFaceEmbeddings(\n"
     ]
    }
   ],
   "source": [
    "embedding_model = HuggingFaceEmbeddings(\n",
    "    model_name=EMBEDDING_MODEL_NAME,\n",
    "    multi_process=True,\n",
    "    model_kwargs={\"device\": \"cuda\"},\n",
    "    encode_kwargs={\"normalize_embeddings\": True},  # Set `True` for cosine similarity\n",
    ")"
   ]
  },
  {
   "cell_type": "code",
   "execution_count": 4,
   "metadata": {},
   "outputs": [],
   "source": [
    "with open(\"../api_key.txt\") as f:\n",
    "    api_key=f.read()\n",
    "\n",
    "llm = ChatAnthropic(model=\"claude-3-sonnet-20240229\",\n",
    "                    temperature=0,\n",
    "                    max_tokens=512,\n",
    "                    timeout=None,\n",
    "                    max_retries=2,\n",
    "                    api_key=api_key)"
   ]
  },
  {
   "cell_type": "code",
   "execution_count": 5,
   "metadata": {},
   "outputs": [
    {
     "data": {
      "text/plain": [
       "30"
      ]
     },
     "execution_count": 5,
     "metadata": {},
     "output_type": "execute_result"
    }
   ],
   "source": [
    "file_path = \"../Data/Personal Auto/Tesla Property & Casualty, Inc/TPC Rule Manual.pdf\"\n",
    "#file_path = \"../Data/Personal Auto/Tesla Property & Casualty, Inc/TX RV 201401 Rules.pdf\"\n",
    "\n",
    "#file_path = \"../Data/Personal Auto/test/TX PPA APCIC Rules 101518RB.pdf\"\n",
    "\n",
    "file_path_rate = \"../Data/Personal Auto/Tesla Property & Casualty, Inc/TPC Rate Manual.pdf\"\n",
    "\n",
    "#text_loader_kwargs = {\"autodetect_encoding\": True}\n",
    "#loader = DirectoryLoader(\"corpus/\", glob='**/**/*.txt', loader_cls=TextLoader, loader_kwargs=text_loader_kwargs)\n",
    "\n",
    "\n",
    "loader = PyPDFLoader(file_path)\n",
    "\n",
    "doc = loader.load()\n",
    "nb_page = len(doc)\n",
    "nb_page"
   ]
  },
  {
   "cell_type": "code",
   "execution_count": null,
   "metadata": {},
   "outputs": [],
   "source": [
    "pages = loader.load_and_split()\n"
   ]
  },
  {
   "cell_type": "code",
   "execution_count": 6,
   "metadata": {},
   "outputs": [],
   "source": [
    "from langchain_text_splitters import TokenTextSplitter\n",
    "\n",
    "text_splitter = TokenTextSplitter(\n",
    "    # Controls the size of each chunk\n",
    "    chunk_size=2000,\n",
    "    # Controls overlap between chunks\n",
    "    chunk_overlap=20,\n",
    ")"
   ]
  },
  {
   "cell_type": "code",
   "execution_count": null,
   "metadata": {},
   "outputs": [
    {
     "data": {
      "text/plain": [
       "['PRIVATE PASSENGER AUTO \\nRULES \\nTEXAS',\n",
       " 'Tesla Property & Casualty, Inc. \\nPersonal Auto Program Rules  \\n \\nUnderwritten by: 1 Texas \\nTesla Property & Casualty, Inc. Edition 2023-03 \\n \\nTable of Contents \\nApplicability of Manual Rules ..................................................................................................................... 2 \\nBinding Instructions .................................................................................................................................... 3 \\nPolicy Program ............................................................................................................................................. 4 \\nFinancial Responsibility Filings .................................................................................................................................... 4 \\nPolicy Period ............................................................................................................................................................... 5 \\nPolicy Changes ........................................................................................................................................................... 6 \\nPolicy Cancellations .................................................................................................................................................... 7 \\nMinimum Policy Premium ............................................................................................................................................ 8 \\nPremium Determination ............................................................................................................................... 9 \\nClassification .............................................................................................................................................. 10 \\nTerritory ..................................................................................................................................................................... 10 \\nModel Year ................................................................................................................................................................ 11 \\nMileage ...................................................................................................................................................................... 12 \\nVehicle Symbol Assignment ..................................................................................................................... 13 \\nPhysical Damage Symbols ........................................................................................................................................ 13 \\nOther Discounts and Factors .................................................................................................................... 14 \\nGroup Rate ................................................................................................................................................................ 14 \\nSafety Program ......................................................................................................................................................... 15 \\nMulti-Car Discount ..................................................................................................................................................... 16 \\nCoverages and Endorsements ................................................................................................................. 17 \\nBodily Injury Coverage (BI) ........................................................................................................................................ 17 \\nProperty Damage Coverage (PD) ............................................................................................................................. 18 \\nMedical Payments Coverage (MED) ......................................................................................................................... 19 \\nPersonal Injury Protection (PIP) ................................................................................................................................ 20 \\nUninsured/Underinsured Motorists Bodily Injury Coverage (UM/UIMBI) ................................................................... 21 \\nUninsured/Underinsured Motorists Property Damage Coverage (UMPD) ................................................................. 22 \\nComprehensive Coverage (COMP) ........................................................................................................................... 23 \\nCollision Coverage (COLL) ........................................................................................................................................ 24 \\nAuto Loan/Lease Gap Coverage (GAP) .................................................................................................................... 25 \\nRoadside Assistance Coverage ................................................................................................................................ 26 \\nRental Reimbursement Coverage ............................................................................................................................. 27 \\nPayment Options ........................................................................................................................................ 28 \\nInstallment Payments ................................................................................................................................................ 28 \\nFees ............................................................................................................................................................. 29',\n",
       " 'Tesla Property & Casualty, Inc. \\nPersonal Auto Program Rules  \\n \\nUnderwritten by: 2 Texas \\nTesla Property & Casualty, Inc. Edition 2023-03 \\nApplicability of Manual Rules \\n1. This manual provides rules for the Tesla Personal Auto Program. \\n2. A motor vehicle that is a pickup, panel truck, or van shall also be considered a private passenger auto if it meets \\nthe eligibility requirements under Policy Program Rule.',\n",
       " 'Tesla Property & Casualty, Inc. \\nPersonal Auto Program Rules  \\n \\nUnderwritten by: 3 Texas \\nTesla Property & Casualty, Inc. Edition 2023-03 \\nBinding Instructions \\nCoverage will be bound in accordance with eligibility guidelines and rules. It is not possible to provide an all-inclusive \\nlist of risks or exposures on which coverage should not be bound. Detailed rules and guidelines contained in this \\nmanual must be followed when binding coverage. Contact your underwriter before binding coverage on any unusual, \\nquestionable or high hazard risk. \\nBinding authority may be restricted in the event of natural disasters including but not limited to flood, earthquake, \\nwildfires, etc.',\n",
       " 'Tesla Property & Casualty, Inc. \\nPersonal Auto Program Rules  \\n \\nUnderwritten by: 4 Texas \\nTesla Property & Casualty, Inc. Edition 2023-03 \\n \\nPolicy Program \\nFinancial Responsibility Filings \\n1. Subject to statutory regulations, filings certify financial responsibility for individuals required to show proof of \\nfinancial responsibility. Such certification will be made promptly. \\n2. When canceling policies with financial responsibility certification, notice to the appropriate authority is required in \\naccordance with the financial responsibility law and regulations of the state. \\n3. A $25.00 SR-22 fee may be imposed per filing per policy term.',\n",
       " 'Tesla Property & Casualty, Inc. \\nPersonal Auto Program Rules  \\n \\nUnderwritten by: 5 Texas \\nTesla Property & Casualty, Inc. Edition 2023-03 \\nPolicy Period \\n1. Personal Auto Policies may be written for policy periods for 6 months or less.  \\n2. For policies issued with an effective date of the 29th, 30th or 31st of any month, the first policy period will be \\nextended from the effective date to the first day of the calendar month following the usual expiration of the policy \\nif the usual expiration of the policy does not exist.',\n",
       " 'Tesla Property & Casualty, Inc. \\nPersonal Auto Program Rules  \\n \\nUnderwritten by: 6 Texas \\nTesla Property & Casualty, Inc. Edition 2023-03 \\nPolicy Changes \\n1. All changes under the Personal Auto Policy requiring premium adjustments shall be computed pro rata, excluding \\nfees, and on the basis of the rates and rules in effect on the policy effective date. \\n2. Suspension of coverage is not permitted. Instead, coverage may be added or deleted if desired and permitted.',\n",
       " 'Tesla Property & Casualty, Inc. \\nPersonal Auto Program Rules  \\n \\nUnderwritten by: 7 Texas \\nTesla Property & Casualty, Inc. Edition 2023-03 \\n \\nPolicy Cancellations \\n1. All cancellations under the Personal Auto Policy shall be computed on a pro rata basis, excluding fees. \\n2. Flat cancellation will be offered if the request for cancellation is received on or before the effective date or there \\nis adequate evidence of replacement coverage with another insurance company. \\n3. We reserve the right to waive refunds due the insured that are $5.00 or less.',\n",
       " 'Tesla Property & Casualty, Inc. \\nPersonal Auto Program Rules  \\n \\nUnderwritten by: 8 Texas \\nTesla Property & Casualty, Inc. Edition 2023-03 \\nMinimum Policy Premium \\nThe minimum premium for a six-month policy is $100, which cannot be reduced except in the event of a cancellation.',\n",
       " 'Tesla Property & Casualty, Inc. \\nPersonal Auto Program Rules  \\n \\nUnderwritten by: 9 Texas \\nTesla Property & Casualty, Inc. Edition 2023-03 \\n \\nPremium Determination \\n \\nPlease refer to the rating algorithm in the attached rate tables.',\n",
       " 'Tesla Property & Casualty, Inc. \\nPersonal Auto Program Rules  \\n \\nUnderwritten by: 10 Texas \\nTesla Property & Casualty, Inc. Edition 2023-03 \\n \\n \\nClassification \\nThe factors for each rating step in the rating algorithm are determined as follows: \\nTerritory \\nTerritory factor is determined by: \\n1. Principal garaging address of automobile. \\n2. If a territory is zip code rated, and a zip code splits or new zip codes are introduced, apply the territory in which \\nthe prior zip code falls. \\n3. If a territory cannot be determined considering above, then assign the territory to an adjacent zip code. \\n4. Automobiles principally garaged out-of-state are unacceptable.',\n",
       " 'Tesla Property & Casualty, Inc. \\nPersonal Auto Program Rules  \\n \\nUnderwritten by: 11 Texas \\nTesla Property & Casualty, Inc. Edition 2023-03 \\nModel Year \\n1. The model year of the auto is the year assigned by the auto manufacturer.  \\n2. For rebuilt or structurally altered autos, the model year of the chassis determines the model year for rating. \\n3. The vehicle age is calculated as the policy effective year–model year. A vehicle age less than 0 will be rated at \\nvehicle age 0.',\n",
       " 'Tesla Property & Casualty, Inc. \\nPersonal Auto Program Rules  \\n \\nUnderwritten by: 12 Texas \\nTesla Property & Casualty, Inc. Edition 2023-03 \\nMileage \\n1. Annual mileage is calculated by prorating the average historical verified mileage. \\n2. For vehicles without sufficient historical verified mileage, self-reported annual mileage will be used.  \\n3. Annual mileage will be updated monthly, based on up to the most recent 6 months of data.',\n",
       " 'Tesla Property & Casualty, Inc. \\nPersonal Auto Program Rules  \\n \\nUnderwritten by: 13 Texas \\nTesla Property & Casualty, Inc. Edition 2023-03 \\n \\nVehicle Symbol Assignment \\nPhysical Damage Symbols \\nPhysical Damage Symbols will be assigned to 1999 and newer model years. Physical Damage Symbols are \\ndetermined by the Vehicle identification Number (VIN) of the vehicle. Vehicles not appearing on the symbol list will be \\nassigned a symbol based upon other vehicles with similar characteristics. Symbols are subject to change periodically \\nbased on updated revisions.',\n",
       " 'Tesla Property & Casualty, Inc. \\nPersonal Auto Program Rules  \\n \\nUnderwritten by: 14 Texas \\nTesla Property & Casualty, Inc. Edition 2023-03 \\n \\nOther Discounts and Factors \\nGroup Rate  \\nA reduction in premium is available if the Named Insured is a Tesla Employee.',\n",
       " 'Tesla Property & Casualty, Inc. \\nPersonal Auto Program Rules  \\n \\nUnderwritten by: 15 Texas \\nTesla Property & Casualty, Inc. Edition 2023-03 \\n \\nSafety Program \\nThe eligibility for Safety Program and the Safety Factor are determined in accordance with the Safety Program Rules. \\nSafety factors are updated on a monthly basis.',\n",
       " 'Tesla Property & Casualty, Inc. \\nPersonal Auto Program Rules  \\n \\nUnderwritten by: 16 Texas \\nTesla Property & Casualty, Inc. Edition 2023-03 \\nMulti-Car Discount \\nIf the total number of vehicles insured by Tesla Insurance on the same policy is two or more, the policy should be \\nconsidered as “multi-vehicle”.',\n",
       " 'Tesla Property & Casualty, Inc. \\nPersonal Auto Program Rules  \\n \\nUnderwritten by: 17 Texas \\nTesla Property & Casualty, Inc. Edition 2023-03 \\n \\nCoverages and Endorsements \\nBodily Injury Coverage (BI) \\nThis coverage is mandatory on all policies. All vehicles on the policy must have the same limits.',\n",
       " 'Tesla Property & Casualty, Inc. \\nPersonal Auto Program Rules  \\n \\nUnderwritten by: 18 Texas \\nTesla Property & Casualty, Inc. Edition 2023-03 \\nProperty Damage Coverage (PD) \\nThis coverage is mandatory on all policies. All vehicles on the policy must have the same limits.',\n",
       " 'Tesla Property & Casualty, Inc. \\nPersonal Auto Program Rules  \\n \\nUnderwritten by: 19 Texas \\nTesla Property & Casualty, Inc. Edition 2023-03 \\nMedical Payments Coverage (MED) \\nThis coverage is optional on all policies. If purchased, all vehicles on the policy must have the same limits.',\n",
       " 'Tesla Property & Casualty, Inc. \\nPersonal Auto Program Rules  \\n \\nUnderwritten by: 20 Texas \\nTesla Property & Casualty, Inc. Edition 2023-03 \\nPersonal Injury Protection (PIP) \\nThis coverage is optional on all policies. This coverage may be rejected in writing. If purchased, all vehicles on the \\npolicy must have the same limits. Medical Payments coverage is not available if Personal Injury Protection coverage \\nis selected.',\n",
       " 'Tesla Property & Casualty, Inc. \\nPersonal Auto Program Rules  \\n \\nUnderwritten by: 21 Texas \\nTesla Property & Casualty, Inc. Edition 2023-03 \\nUninsured/Underinsured Motorists Bodily Injury Coverage (UM/UIMBI) \\nThis coverage is optional on all policies. This coverage may be reduced or rejected in writing. If purchased, all \\nvehicles on the policy must have the same limits.',\n",
       " 'Tesla Property & Casualty, Inc. \\nPersonal Auto Program Rules  \\n \\nUnderwritten by: 22 Texas \\nTesla Property & Casualty, Inc. Edition 2023-03 \\nUninsured/Underinsured Motorists Property Damage Coverage (UMPD) \\nThis coverage is optional on all policies. This coverage may be reduced or rejected in writing. If purchased, all \\nvehicles on the policy must have the same limits.',\n",
       " 'Tesla Property & Casualty, Inc. \\nPersonal Auto Program Rules  \\n \\nUnderwritten by: 23 Texas \\nTesla Property & Casualty, Inc. Edition 2023-03 \\nComprehensive Coverage (COMP) \\nThis coverage is optional on all policies. The deductible is identified for each vehicle on the Declaration Page.',\n",
       " 'Tesla Property & Casualty, Inc. \\nPersonal Auto Program Rules  \\n \\nUnderwritten by: 24 Texas \\nTesla Property & Casualty, Inc. Edition 2023-03 \\nCollision Coverage (COLL) \\nThis coverage is optional on all policies. The deductible is identified for each vehicle on the Declaration Page.',\n",
       " 'Tesla Property & Casualty, Inc. \\nPersonal Auto Program Rules  \\n \\nUnderwritten by: 25 Texas \\nTesla Property & Casualty, Inc. Edition 2023-03 \\n \\nAuto Loan/Lease Gap Coverage (GAP) \\nThis coverage is optional on all policies. This coverage is only available if both Comprehensive and Collision \\ncoverages are purchased on the vehicle, and must be purchased within six months of leasing or financing a new \\nvehicle. Loan/Lease Gap Coverage will continue to apply, unless otherwise requested to be removed by the insured, \\nuntil the first renewal when the vehicle attains a vehicle age of 6. At this renewal, Loan/Lease Gap Coverage will be \\nremoved. \\nThe charge for this coverage will be applied to the Collision and Comprehensive premiums without application of the \\ndeductible factors. These premiums are to be added together for display on the Declarations.',\n",
       " 'Tesla Property & Casualty, Inc. \\nPersonal Auto Program Rules  \\n \\nUnderwritten by: 26 Texas \\nTesla Property & Casualty, Inc. Edition 2023-03 \\nRoadside Assistance Coverage \\nThis coverage is optional on all policies. Basic or increased coverage may be purchased on any policy. The coverage \\nis identified for each vehicle on the Declaration Page.',\n",
       " 'Tesla Property & Casualty, Inc. \\nPersonal Auto Program Rules  \\n \\nUnderwritten by: 27 Texas \\nTesla Property & Casualty, Inc. Edition 2023-03 \\nRental Reimbursement Coverage \\nThis coverage is optional on all policies. The coverage limit is identified for each vehicle on the Declaration Page.',\n",
       " 'Tesla Property & Casualty, Inc. \\nPersonal Auto Program Rules  \\n \\nUnderwritten by: 28 Texas \\nTesla Property & Casualty, Inc. Edition 2023-03 \\n \\nPayment Options \\nInstallment Payments \\nTesla Insurance only offers a monthly payment plan. No installment fees apply. The required down payment is the \\nfirst month’s premium.',\n",
       " 'Tesla Property & Casualty, Inc. \\nPersonal Auto Program Rules  \\n \\nUnderwritten by: 29 Texas \\nTesla Property & Casualty, Inc. Edition 2023-03 \\n \\nFees \\n \\nThe following fees may be applicable in the state, and fully earned when charged: \\n \\n\\uf0b7 Insufficient Funds \\nTesla Insurance reserves the right to impose a fee of $30.00 for any premium payment, fees, or other \\ncharges due, that are unable to be processed due to insufficient funds or the unavailability or \\ninaccessibility of funds, regardless of payment method. \\n\\uf0b7 Late Payment Fee \\nTesla Insurance reserves the right to impose a late payment fee of $15.00 may be assessed for any \\npayment not received on the third day past the billing due date. \\n\\uf0b7 Financial Responsibility Fee \\nTesla Insurance reserves the right to impose a financial responsibility fee of $25 per policy, per term, if a \\nfinancial responsibility filing (ex. SR-22) is submitted on behalf of an insured. \\n\\uf0b7 Motor Vehicle Crime Prevention Authority Pass-Through Fee \\nTexas Civil Statutes, Article 4413 (37) 10 requires each insurer to pay a fee of $4.00 per motor vehicle year to \\nthe Motor Vehicle Crime Prevention Authority. This fee is assessed to the policyholder. This fee is fully earned \\nif the policy cancels. \\n.']"
      ]
     },
     "execution_count": 7,
     "metadata": {},
     "output_type": "execute_result"
    }
   ],
   "source": [
    "text_processed = []\n",
    "\n",
    "#for each documents\n",
    "#for page in doc:\n",
    "#    text_processed += text_splitter.split_text(page.page_content)\n",
    "\n",
    "text_processed += text_splitter.split_documents(doc)\n",
    "\n",
    "\n",
    "text_processed = [doc.page_content for doc in text_processed]\n",
    "text_processed"
   ]
  },
  {
   "cell_type": "code",
   "execution_count": 15,
   "metadata": {},
   "outputs": [],
   "source": [
    "from langchain.vectorstores import FAISS\n",
    "from langchain_community.embeddings import HuggingFaceEmbeddings\n",
    "from langchain_community.vectorstores.utils import DistanceStrategy\n",
    "\n",
    "vectorstore  = FAISS.from_texts(\n",
    "    text_processed, embedding_model, distance_strategy=DistanceStrategy.COSINE\n",
    ")"
   ]
  },
  {
   "cell_type": "code",
   "execution_count": 44,
   "metadata": {},
   "outputs": [],
   "source": [
    "# Define a custom prompt to provide instructions and any additional context.\n",
    "# 1) You can add examples into the prompt template to improve extraction quality\n",
    "# 2) Introduce additional parameters to take context into account (e.g., include metadata\n",
    "#    about the document from which the text was extracted.)\n",
    "prompt_template = ChatPromptTemplate.from_messages(\n",
    "    [\n",
    "        (\n",
    "            \"system\",\n",
    "            \"You are an expert extraction algorithm. \"\n",
    "            \"Only extract relevant information from the text. \"\n",
    "            \"If you do not know the value of an attribute asked to extract, \"\n",
    "            \"return null for the attribute's value.\",\n",
    "        ),\n",
    "        # Please see the how-to about improving performance with\n",
    "        # reference examples.\n",
    "        # MessagesPlaceholder('examples'),\n",
    "        (\"human\", \"{text}\"),\n",
    "    ]\n",
    ")\n",
    "\n",
    "#claude pro context window : 200k+ tokens (about 500 pages of text or 100 images)"
   ]
  },
  {
   "cell_type": "code",
   "execution_count": 17,
   "metadata": {},
   "outputs": [
    {
     "data": {
      "text/plain": [
       "18380"
      ]
     },
     "execution_count": 17,
     "metadata": {},
     "output_type": "execute_result"
    }
   ],
   "source": [
    "text = \" \".join(list(map(lambda page: page.page_content, pages)))\n",
    "len(text)"
   ]
  },
  {
   "cell_type": "markdown",
   "metadata": {},
   "source": [
    "TODO : we should split text and loop to respect model's context window"
   ]
  },
  {
   "cell_type": "code",
   "execution_count": null,
   "metadata": {},
   "outputs": [],
   "source": [
    "all_args = {\n",
    "    \"allow_inf_nan\" : True,\n",
    "    \"default\" : 0\n",
    "    }\n",
    "\n",
    "# default_factory -> callable when default is needed\n",
    "\n",
    "# use nested class for organisation\n",
    "\n",
    "#---------------------------------------------------------------------------\n",
    "class InsuranceExtraction_Rule(BaseModel):\n",
    "    '''Different informations extracted from a company insurance's rule file.'''\n",
    "    # This doc-string is sent to the LLM as the description of the schema Person,\n",
    "    # and it can help to improve extraction results.\n",
    "\n",
    "    company_name: str = Field(\n",
    "        description=\"The company that wrote this file.\"\n",
    "    )\n",
    "    min_premium: Optional[str] = Field(\n",
    "        description=\"Minimum premium (The lowest amount the insurer will charge for coverage) in dollars, if there is multiple possible values, take the lowest.\", default=\"\"\n",
    "    )\n",
    "    min_premium_comments: Optional[str] = Field(\n",
    "        description=\"Minimum premium commentaries or additionnal informations\"\n",
    "    )\n",
    "    policy_period: Optional[str] = Field(\n",
    "        description=\"Policy period in month, if there is multiple possible values, take the lowest.\", default=\"\"\n",
    "    )\n",
    "    policy_period_comments: Optional[str] = Field(\n",
    "        description=\"Policy period commentaries or additionnal informations.\"\n",
    "    )\n",
    "\n",
    "\n",
    "class InsuranceExtraction_Rate(BaseModel):\n",
    "    '''Different informations extracted from a company insurance's rate file.'''\n",
    "    territory_factor_BI: str = Field(description=\"The company's insurance territory factor for BI (Bodily Injury) insurance.\")\n",
    "\n",
    "\n",
    "#---------------------------------------------------------------------------\n",
    "\n"
   ]
  },
  {
   "cell_type": "code",
   "execution_count": 20,
   "metadata": {},
   "outputs": [],
   "source": [
    "structured_llm_rule = llm.with_structured_output(schema=InsuranceExtraction_Rule, include_raw=False)\n",
    "structured_llm_rate = llm.with_structured_output(schema=InsuranceExtraction_Rate, include_raw=False)"
   ]
  },
  {
   "cell_type": "markdown",
   "metadata": {},
   "source": [
    "### basic"
   ]
  },
  {
   "cell_type": "code",
   "execution_count": 18,
   "metadata": {},
   "outputs": [],
   "source": [
    "prompt = prompt_template.invoke({\"text\": text})"
   ]
  },
  {
   "cell_type": "code",
   "execution_count": null,
   "metadata": {},
   "outputs": [
    {
     "data": {
      "text/plain": [
       "InsuranceExtraction_Rule(company_name='Texas Tesla Property &amp; Casualty, Inc.', min_premium='100', min_premium_comments='The minimum premium for a six-month policy is $100, which cannot be reduced except in the event of a cancellation.', policy_period='6', policy_period_comments='Personal Auto Policies may be written for policy periods for 6 months or less.')"
      ]
     },
     "execution_count": 54,
     "metadata": {},
     "output_type": "execute_result"
    }
   ],
   "source": [
    "result = structured_llm_rule.invoke(prompt)\n",
    "result"
   ]
  },
  {
   "cell_type": "markdown",
   "metadata": {},
   "source": [
    "### brute force"
   ]
  },
  {
   "cell_type": "code",
   "execution_count": 21,
   "metadata": {},
   "outputs": [],
   "source": [
    "extractor = prompt_template | structured_llm_rule"
   ]
  },
  {
   "cell_type": "code",
   "execution_count": null,
   "metadata": {},
   "outputs": [
    {
     "data": {
      "text/plain": [
       "[InsuranceExtraction_Rule(company_name='Texas Tesla Property &amp; Casualty, Inc.', min_premium='100', min_premium_comments='The minimum premium for a six-month policy is $100, which cannot be reduced except in the event of a cancellation.', policy_period='6', policy_period_comments='Personal Auto Policies may be written for policy periods for 6 months or less.')]"
      ]
     },
     "execution_count": 22,
     "metadata": {},
     "output_type": "execute_result"
    }
   ],
   "source": [
    "# we could possibly chunk 'text' here to stay in the context window\n",
    "\n",
    "extractions = extractor.batch(\n",
    "    [{\"text\": text}],\n",
    "    {\"max_concurrency\": 5}\n",
    ")\n",
    "extractions"
   ]
  },
  {
   "cell_type": "markdown",
   "metadata": {},
   "source": [
    "### rag"
   ]
  },
  {
   "cell_type": "code",
   "execution_count": 40,
   "metadata": {},
   "outputs": [],
   "source": [
    "retriever = vectorstore.as_retriever(\n",
    "    search_kwargs={\"k\": 20}\n",
    ")  # Only extract from first document\n"
   ]
  },
  {
   "cell_type": "code",
   "execution_count": 41,
   "metadata": {},
   "outputs": [],
   "source": [
    "rag_extractor = {\n",
    "    \"text\": retriever #| (lambda docs: docs[0].page_content)  # fetch content of top doc\n",
    "} | extractor"
   ]
  },
  {
   "cell_type": "code",
   "execution_count": 42,
   "metadata": {},
   "outputs": [
    {
     "data": {
      "text/plain": [
       "InsuranceExtraction_Rule(company_name='Tesla Property &amp; Casualty, Inc.', min_premium='null', min_premium_comments='The minimum premium is not explicitly stated in the provided documents.', policy_period='6', policy_period_comments='The policy period is 6 months, as stated in the section on Auto Loan/Lease Gap Coverage: \"Loan/Lease Gap Coverage will continue to apply, unless otherwise requested to be removed by the insured, until the first renewal when the vehicle attains a vehicle age of 6.\"')"
      ]
     },
     "execution_count": 42,
     "metadata": {},
     "output_type": "execute_result"
    }
   ],
   "source": [
    "extractions = rag_extractor.invoke(\"Different informations extracted from a company insurance's rule file.\")\n",
    "extractions"
   ]
  },
  {
   "cell_type": "markdown",
   "metadata": {},
   "source": [
    "rag might be the slowest but best choice in the long run, but imo should be used with 1 scheme/attribute"
   ]
  },
  {
   "cell_type": "markdown",
   "metadata": {},
   "source": [
    "______________________________________________________________________"
   ]
  },
  {
   "cell_type": "markdown",
   "metadata": {},
   "source": [
    "test on document without the information -> error handling"
   ]
  },
  {
   "cell_type": "markdown",
   "metadata": {},
   "source": [
    "convert to float"
   ]
  },
  {
   "cell_type": "markdown",
   "metadata": {},
   "source": [
    "automatic document search, indexing, downloading"
   ]
  },
  {
   "cell_type": "markdown",
   "metadata": {},
   "source": [
    "tag documents ?"
   ]
  },
  {
   "cell_type": "markdown",
   "metadata": {},
   "source": [
    "few shot prompting with examples ?\n"
   ]
  }
 ],
 "metadata": {
  "kernelspec": {
   "display_name": ".venv",
   "language": "python",
   "name": "python3"
  },
  "language_info": {
   "codemirror_mode": {
    "name": "ipython",
    "version": 3
   },
   "file_extension": ".py",
   "mimetype": "text/x-python",
   "name": "python",
   "nbconvert_exporter": "python",
   "pygments_lexer": "ipython3",
   "version": "3.11.5"
  }
 },
 "nbformat": 4,
 "nbformat_minor": 2
}
